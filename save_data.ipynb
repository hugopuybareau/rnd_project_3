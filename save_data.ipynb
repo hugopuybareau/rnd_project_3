{
 "cells": [
  {
   "cell_type": "code",
   "execution_count": null,
   "id": "dfd263bf",
   "metadata": {},
   "outputs": [],
   "source": [
    "import os\n",
    "import glob\n",
    "import pickle\n",
    "import pandas as pd\n",
    "from tqdm.notebook import tqdm\n",
    "\n",
    "data_dir = \"data\"\n",
    "xls_dir = \"xls\"\n",
    "\n",
    "raw_prefix = \"test\"\n",
    "processed_prefix = \"ind\"\n",
    "\n",
    "\n",
    "xls_paths = glob.glob(os.path.join(xls_dir, \"*.xls\"))\n",
    "\n",
    "os.makedirs(data_dir, exist_ok=True)\n",
    "\n",
    "raw = list(dict())\n",
    "processed = list(dict())\n",
    "\n",
    "for i, file_path in enumerate(tqdm(xls_paths, desc=\"Files\")):\n",
    "    xls_file = pd.ExcelFile(file_path)\n",
    "    xls_file_id = int(file_path.split('.')[0][-1])\n",
    "    sheet_names = [sheet_name for sheet_name in xls_file.sheet_names if sheet_name.lower().startswith((raw_prefix, processed_prefix))]\n",
    "    for sheet_name in tqdm(sheet_names, desc=\"Sheets\", leave=False):\n",
    "        try:\n",
    "            sheet_id = int(sheet_name[-3:])\n",
    "            if sheet_name.lower().startswith(raw_prefix):\n",
    "                sample_df = pd.read_excel(file_path, sheet_name=sheet_name, header=0, skiprows=[1])\n",
    "                info = pd.DataFrame({'xls_file_id':[xls_file_id], 'sheet_id': [sheet_id]})\n",
    "                data = sample_df.iloc[1:].reset_index(drop=True)\n",
    "                raw.append({\"info\": info, \"data\": data})\n",
    "            elif sheet_name.lower().startswith(processed_prefix):\n",
    "                sample_df = pd.read_excel(file_path, sheet_name=sheet_name, header=0)\n",
    "                info = sample_df.iloc[0, -11:].to_frame().T\n",
    "                info.insert(0, 'xls_file_id', xls_file_id)\n",
    "                info.insert(1, 'sheet_id', sheet_id)\n",
    "                data = sample_df.iloc[1:].reset_index(drop=True)\n",
    "                processed.append({\"info\": info, \"data\": data})\n",
    "        except ValueError:\n",
    "            print(f\"Skipping sheet {sheet_name} in file {file_path}\")\n",
    "            pass\n",
    "\n",
    "\n",
    "with open(f'{data_dir}/processed.pkl', 'wb') as f:\n",
    "    pickle.dump(processed, f)\n",
    "\n",
    "with open(f'{data_dir}/raw.pkl', 'wb') as f:\n",
    "    pickle.dump(raw, f)"
   ]
  }
 ],
 "metadata": {
  "language_info": {
   "name": "python"
  }
 },
 "nbformat": 4,
 "nbformat_minor": 5
}
